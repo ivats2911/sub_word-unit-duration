{
 "cells": [
  {
   "cell_type": "markdown",
   "id": "b6a16564",
   "metadata": {},
   "source": [
    "# Baseline Model for Subword Unit Duration Prediction\n",
    "\n",
    "This notebook implements and evaluates the baseline model for subword unit duration prediction."
   ]
  },
  {
   "cell_type": "code",
   "execution_count": 1,
   "id": "2b2839ef",
   "metadata": {},
   "outputs": [],
   "source": [
    "import os\n",
    "import sys\n",
    "import json\n",
    "import numpy as np\n",
    "import pandas as pd\n",
    "import matplotlib.pyplot as plt\n",
    "import seaborn as sns\n",
    "from sklearn.model_selection import train_test_split\n",
    "\n",
    "# Add project root to path to import project modules\n",
    "sys.path.insert(0, os.path.abspath('..'))\n",
    "\n",
    "from src.data_processing import load_data, extract_phone_data, calculate_speaking_rate, preprocess_data, calculate_phone_statistics\n",
    "from src.features import extract_features\n",
    "from src.models import BaselineModel\n",
    "from src.evaluations import evaluate_model, plot_predictions, plot_error_distribution\n",
    "from config import Config\n",
    "\n",
    "# Set plot style\n",
    "sns.set_style('whitegrid')\n",
    "plt.rcParams['figure.figsize'] = (12, 6)\n"
   ]
  },
  {
   "cell_type": "markdown",
   "id": "0e065891",
   "metadata": {},
   "source": [
    "## 1. Load and Preprocess Data"
   ]
  },
  {
   "cell_type": "code",
   "execution_count": 2,
   "id": "e8a5c3c2",
   "metadata": {},
   "outputs": [
    {
     "name": "stderr",
     "output_type": "stream",
     "text": [
      "File ../data/american_english\\american_english\\anonymous-20080425-atw_a0028\\result.json has non-dict 'result': <class 'str'>\n",
      "File ../data/american_english\\american_english\\anonymous-20080702-oqm_a0387\\result.json has non-dict 'result': <class 'str'>\n",
      "File ../data/american_english\\american_english\\anonymous-20090917-vwy_b0305\\result.json has non-dict 'result': <class 'str'>\n",
      "File ../data/american_english\\american_english\\anonymous-20100515-nfo_a0217\\result.json has non-dict 'result': <class 'str'>\n",
      "File ../data/american_english\\american_english\\anonymous-20100515-nfo_a0224\\result.json has non-dict 'result': <class 'str'>\n",
      "File ../data/american_english\\american_english\\anonymous-20100820-ebd_b0103\\result.json has non-dict 'result': <class 'str'>\n",
      "File ../data/american_english\\american_english\\anonymous-20101011-qrd_a0385\\result.json has non-dict 'result': <class 'str'>\n",
      "File ../data/american_english\\american_english\\anonymous-20111004-fxb_b0014\\result.json has non-dict 'result': <class 'str'>\n",
      "File ../data/american_english\\american_english\\anonymous-20111217-ghn_b0041\\result.json has non-dict 'result': <class 'str'>\n",
      "File ../data/american_english\\american_english\\anonymous-20150417-qko_a0542\\result.json has non-dict 'result': <class 'str'>\n",
      "File ../data/american_english\\american_english\\anonymous-20150417-qko_a0543\\result.json has non-dict 'result': <class 'str'>\n",
      "File ../data/american_english\\american_english\\anonymous-20150417-qko_a0544\\result.json has non-dict 'result': <class 'str'>\n",
      "File ../data/american_english\\american_english\\anonymous-20150417-qko_a0545\\result.json has non-dict 'result': <class 'str'>\n",
      "File ../data/american_english\\american_english\\anonymous-20150417-qko_a0547\\result.json has non-dict 'result': <class 'str'>\n",
      "File ../data/american_english\\american_english\\anonymous-20150417-qko_a0551\\result.json has non-dict 'result': <class 'str'>\n",
      "File ../data/american_english\\american_english\\bart-20090807-ufp_b0421\\result.json has non-dict 'result': <class 'str'>\n",
      "File ../data/american_english\\american_english\\bart-20090807-ufp_b0423\\result.json has non-dict 'result': <class 'str'>\n",
      "File ../data/american_english\\american_english\\beez1717-20111017-yqm_a0089\\result.json has non-dict 'result': <class 'str'>\n",
      "File ../data/american_english\\american_english\\bobriva123-20100611-cuz_b0458\\result.json has non-dict 'result': <class 'str'>\n",
      "File ../data/american_english\\american_english\\btr-20090830-msm_b0454\\result.json has non-dict 'result': <class 'str'>\n",
      "File ../data/american_english\\american_english\\bugsysservant-20091103-fic_b0141\\result.json has non-dict 'result': <class 'str'>\n",
      "File ../data/american_english\\american_english\\camdixon-20141207-xql_a0153\\result.json has non-dict 'result': <class 'str'>\n",
      "File ../data/american_english\\american_english\\jade-20100109-gxb_a0423\\result.json has non-dict 'result': <class 'str'>\n",
      "File ../data/american_english\\american_english\\jbaldus-20160216-yfi_e0004\\result.json has non-dict 'result': <class 'str'>\n",
      "File ../data/american_english\\american_english\\mcmurray02-20090312-lje_b0180\\result.json has non-dict 'result': <class 'str'>\n",
      "File ../data/american_english\\american_english\\mcmurray02-20090312-lqy_a0188\\result.json has non-dict 'result': <class 'str'>\n",
      "File ../data/american_english\\american_english\\mjmm-20080526-hca_b0075\\result.json has non-dict 'result': <class 'str'>\n",
      "File ../data/american_english\\american_english\\mjmm-20080526-hca_b0076\\result.json has non-dict 'result': <class 'str'>\n",
      "File ../data/american_english\\american_english\\mjmm-20080526-hca_b0078\\result.json has non-dict 'result': <class 'str'>\n",
      "File ../data/american_english\\american_english\\pcsnpny-20150314-eiv_b0397\\result.json has non-dict 'result': <class 'str'>\n",
      "File ../data/american_english\\american_english\\sarah-20140107-klo_a0427\\result.json has non-dict 'result': <class 'str'>\n",
      "File ../data/american_english\\american_english\\sarah-20140107-klo_a0429\\result.json has non-dict 'result': <class 'str'>\n",
      "File ../data/american_english\\american_english\\sarah-20140107-klo_a0430\\result.json has non-dict 'result': <class 'str'>\n",
      "File ../data/american_english\\american_english\\sarah-20140107-klo_a0431\\result.json has non-dict 'result': <class 'str'>\n",
      "File ../data/american_english\\american_english\\sarah-20140107-klo_a0433\\result.json has non-dict 'result': <class 'str'>\n",
      "File ../data/american_english\\american_english\\sarah-20140107-klo_a0434\\result.json has non-dict 'result': <class 'str'>\n",
      "File ../data/american_english\\american_english\\sarah-20140107-klo_a0435\\result.json has non-dict 'result': <class 'str'>\n",
      "File ../data/american_english\\american_english\\sarah-20140107-uoq_b0156\\result.json has non-dict 'result': <class 'str'>\n",
      "File ../data/american_english\\american_english\\sarah-20140107-uoq_b0157\\result.json has non-dict 'result': <class 'str'>\n",
      "File ../data/american_english\\american_english\\sarah-20140107-uoq_b0158\\result.json has non-dict 'result': <class 'str'>\n",
      "File ../data/american_english\\american_english\\sarah-20140107-uoq_b0160\\result.json has non-dict 'result': <class 'str'>\n",
      "File ../data/american_english\\american_english\\sarah-20140107-uoq_b0162\\result.json has non-dict 'result': <class 'str'>\n",
      "File ../data/american_english\\american_english\\sarah-20140107-uoq_b0165\\result.json has non-dict 'result': <class 'str'>\n",
      "Error loading file ../data/american_english\\__MACOSX\\american_english\\1snoke-20120412-hge_a0405\\._result.json: 'utf-8' codec can't decode byte 0xb0 in position 45: invalid start byte\n",
      "Error loading file ../data/american_english\\__MACOSX\\american_english\\2old2play-20110606-hcn_a0295\\._result.json: 'utf-8' codec can't decode byte 0xb0 in position 45: invalid start byte\n",
      "Error loading file ../data/american_english\\__MACOSX\\american_english\\anonymous-20150417-qko_a0547\\._result.json: 'utf-8' codec can't decode byte 0xb0 in position 45: invalid start byte\n",
      "Error loading file ../data/american_english\\__MACOSX\\american_english\\zlp-20100110-vuh_b0479\\._result.json: 'utf-8' codec can't decode byte 0xb0 in position 45: invalid start byte\n",
      "File ../data/other_english\\other_english\\1337ad-20170321-ajg_en-0534\\result.json has non-dict 'result': <class 'str'>\n",
      "File ../data/other_english\\other_english\\anonymous-20080630-eki_a0552\\result.json has non-dict 'result': <class 'str'>\n",
      "File ../data/other_english\\other_english\\anonymous-20090709-jol_b0486\\result.json has non-dict 'result': <class 'str'>\n",
      "File ../data/other_english\\other_english\\anonymous-20090709-jol_b0488\\result.json has non-dict 'result': <class 'str'>\n",
      "File ../data/other_english\\other_english\\anonymous-20090709-jol_b0491\\result.json has non-dict 'result': <class 'str'>\n",
      "File ../data/other_english\\other_english\\anonymous-20090824-ipw_b0030\\result.json has non-dict 'result': <class 'str'>\n",
      "File ../data/other_english\\other_english\\anonymous-20090824-ipw_b0031\\result.json has non-dict 'result': <class 'str'>\n",
      "File ../data/other_english\\other_english\\anonymous-20100409-kai_b0375\\result.json has non-dict 'result': <class 'str'>\n",
      "File ../data/other_english\\other_english\\anonymous-20101108-yrp_b0112\\result.json has non-dict 'result': <class 'str'>\n",
      "File ../data/other_english\\other_english\\anonymous-20110208-sbp_a0217\\result.json has non-dict 'result': <class 'str'>\n",
      "File ../data/other_english\\other_english\\anonymous-20110303-yst_b0162\\result.json has non-dict 'result': <class 'str'>\n",
      "File ../data/other_english\\other_english\\anonymous-20110802-sqr_b0023\\result.json has non-dict 'result': <class 'str'>\n",
      "File ../data/other_english\\other_english\\anonymous-20120401-zxx_b0456\\result.json has non-dict 'result': <class 'str'>\n",
      "File ../data/other_english\\other_english\\armond-20121229-wca_b0227\\result.json has non-dict 'result': <class 'str'>\n",
      "File ../data/other_english\\other_english\\zeltanaco-20100911-cis_a0090\\result.json has non-dict 'result': <class 'str'>\n"
     ]
    },
    {
     "name": "stdout",
     "output_type": "stream",
     "text": [
      "Loaded 28417 native speaker utterances\n",
      "Loaded 4736 non-native speaker utterances\n"
     ]
    }
   ],
   "source": [
    "# Define data directories\n",
    "native_dir = '../data/american_english'\n",
    "nonnative_dir = '../data/other_english'\n",
    "\n",
    "# Load the data\n",
    "native_data = load_data(native_dir)\n",
    "nonnative_data = load_data(nonnative_dir)\n",
    "\n",
    "print(f\"Loaded {len(native_data)} native speaker utterances\")\n",
    "print(f\"Loaded {len(nonnative_data)} non-native speaker utterances\")\n",
    "\n",
    "# Initialize configuration\n",
    "config = Config()\n",
    "config.native_only = True  # Use only native data for training\n",
    "config.smooth_factor = 1.0  # Laplace smoothing factor\n"
   ]
  },
  {
   "cell_type": "code",
   "execution_count": 3,
   "id": "21d8326e",
   "metadata": {},
   "outputs": [
    {
     "name": "stdout",
     "output_type": "stream",
     "text": [
      "Training data: 825020 phones\n",
      "Validation data: 176790 phones\n",
      "Test data: 378609 phones\n"
     ]
    }
   ],
   "source": [
    "# Preprocess data\n",
    "train_data, val_data, test_data = preprocess_data(\n",
    "    native_data, \n",
    "    nonnative_data,\n",
    "    native_only=config.native_only,\n",
    "    config=config\n",
    ")\n",
    "\n",
    "print(f\"Training data: {len(train_data)} phones\")\n",
    "print(f\"Validation data: {len(val_data)} phones\")\n",
    "print(f\"Test data: {len(test_data)} phones\")"
   ]
  },
  {
   "cell_type": "markdown",
   "id": "03873089",
   "metadata": {},
   "source": [
    "## 2. Extract Features"
   ]
  },
  {
   "cell_type": "code",
   "execution_count": 4,
   "id": "0683b4b6",
   "metadata": {},
   "outputs": [
    {
     "name": "stdout",
     "output_type": "stream",
     "text": [
      "Training features: (825020, 363)\n",
      "Validation features: (176790, 308)\n",
      "Test features: (378609, 353)\n"
     ]
    }
   ],
   "source": [
    "# Extract features for training, validation, and test sets\n",
    "X_train, y_train = extract_features(train_data, config)\n",
    "X_val, y_val = extract_features(val_data, config)\n",
    "X_test, y_test = extract_features(test_data, config)\n",
    "\n",
    "print(f\"Training features: {X_train.shape}\")\n",
    "print(f\"Validation features: {X_val.shape}\")\n",
    "print(f\"Test features: {X_test.shape}\")"
   ]
  },
  {
   "cell_type": "markdown",
   "id": "e155d0e1",
   "metadata": {},
   "source": [
    "## 3. Baseline Model Implementation"
   ]
  },
  {
   "cell_type": "code",
   "execution_count": 5,
   "id": "4a8fb59f",
   "metadata": {},
   "outputs": [
    {
     "data": {
      "text/plain": [
       "<src.models.BaselineModel at 0x21bcf736f90>"
      ]
     },
     "execution_count": 5,
     "metadata": {},
     "output_type": "execute_result"
    }
   ],
   "source": [
    "# Train the baseline model\n",
    "baseline_model = BaselineModel(smooth_factor=config.smooth_factor)\n",
    "baseline_model.train(X_train, y_train)"
   ]
  },
  {
   "cell_type": "code",
   "execution_count": 6,
   "id": "5c206dee",
   "metadata": {},
   "outputs": [
    {
     "data": {
      "text/html": [
       "<div>\n",
       "<style scoped>\n",
       "    .dataframe tbody tr th:only-of-type {\n",
       "        vertical-align: middle;\n",
       "    }\n",
       "\n",
       "    .dataframe tbody tr th {\n",
       "        vertical-align: top;\n",
       "    }\n",
       "\n",
       "    .dataframe thead th {\n",
       "        text-align: right;\n",
       "    }\n",
       "</style>\n",
       "<table border=\"1\" class=\"dataframe\">\n",
       "  <thead>\n",
       "    <tr style=\"text-align: right;\">\n",
       "      <th></th>\n",
       "      <th>phone</th>\n",
       "      <th>mean</th>\n",
       "      <th>std</th>\n",
       "      <th>count</th>\n",
       "    </tr>\n",
       "  </thead>\n",
       "  <tbody>\n",
       "    <tr>\n",
       "      <th>2</th>\n",
       "      <td>362.0</td>\n",
       "      <td>0.089334</td>\n",
       "      <td>0.126411</td>\n",
       "      <td>825018.0</td>\n",
       "    </tr>\n",
       "    <tr>\n",
       "      <th>0</th>\n",
       "      <td>2.0</td>\n",
       "      <td>1.259668</td>\n",
       "      <td>0.089404</td>\n",
       "      <td>1.0</td>\n",
       "    </tr>\n",
       "    <tr>\n",
       "      <th>1</th>\n",
       "      <td>6.0</td>\n",
       "      <td>0.149668</td>\n",
       "      <td>0.089404</td>\n",
       "      <td>1.0</td>\n",
       "    </tr>\n",
       "  </tbody>\n",
       "</table>\n",
       "</div>"
      ],
      "text/plain": [
       "   phone      mean       std     count\n",
       "2  362.0  0.089334  0.126411  825018.0\n",
       "0    2.0  1.259668  0.089404       1.0\n",
       "1    6.0  0.149668  0.089404       1.0"
      ]
     },
     "execution_count": 6,
     "metadata": {},
     "output_type": "execute_result"
    }
   ],
   "source": [
    "# Get phone statistics from the model\n",
    "phone_stats = pd.DataFrame([\n",
    "    {\n",
    "        'phone': phone,\n",
    "        'mean': stats['mean'],\n",
    "        'std': stats['std'],\n",
    "        'count': stats['count']\n",
    "    }\n",
    "    for phone, stats in baseline_model.phone_stats.items()\n",
    "])\n",
    "\n",
    "# Sort by count (frequency)\n",
    "phone_stats = phone_stats.sort_values('count', ascending=False)\n",
    "\n",
    "# Display top 20 phones by frequency\n",
    "phone_stats.head(20)"
   ]
  },
  {
   "cell_type": "markdown",
   "id": "96a95f8a",
   "metadata": {},
   "source": [
    "## 4. Model Evaluation"
   ]
  },
  {
   "cell_type": "code",
   "execution_count": 7,
   "id": "23c53ffe",
   "metadata": {},
   "outputs": [
    {
     "name": "stdout",
     "output_type": "stream",
     "text": [
      "Validation Metrics:\n",
      "MAE: 0.0546\n",
      "RMSE: 0.1227\n",
      "Correlation: nan\n"
     ]
    },
    {
     "name": "stderr",
     "output_type": "stream",
     "text": [
      "c:\\Users\\sv300\\Desktop\\Sub word unit duration\\subword_duration_modeling\\src\\evaluations.py:58: ConstantInputWarning: An input array is constant; the correlation coefficient is not defined.\n",
      "  corr, _ = pearsonr(y_true, y_pred)\n"
     ]
    }
   ],
   "source": [
    "# Evaluate on validation set\n",
    "val_metrics = evaluate_model(baseline_model, X_val, y_val)\n",
    "print(\"Validation Metrics:\")\n",
    "print(f\"MAE: {val_metrics['mae']:.4f}\")\n",
    "print(f\"RMSE: {val_metrics['rmse']:.4f}\")\n",
    "print(f\"Correlation: {val_metrics['correlation']:.4f}\")"
   ]
  }
 ],
 "metadata": {
  "kernelspec": {
   "display_name": "base",
   "language": "python",
   "name": "python3"
  },
  "language_info": {
   "codemirror_mode": {
    "name": "ipython",
    "version": 3
   },
   "file_extension": ".py",
   "mimetype": "text/x-python",
   "name": "python",
   "nbconvert_exporter": "python",
   "pygments_lexer": "ipython3",
   "version": "3.12.3"
  }
 },
 "nbformat": 4,
 "nbformat_minor": 5
}
